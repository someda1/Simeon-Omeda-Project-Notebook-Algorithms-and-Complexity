{
  "nbformat": 4,
  "nbformat_minor": 0,
  "metadata": {
    "colab": {
      "provenance": []
    },
    "kernelspec": {
      "name": "python3",
      "display_name": "Python 3"
    },
    "language_info": {
      "name": "python"
    }
  },
  "cells": [
    {
      "cell_type": "markdown",
      "metadata": {
        "id": "y4oka3DKd4lk"
      },
      "source": [
        "# Project Notebook: Algorithms and Complexity \n",
        "\n"
      ]
    },
    {
      "cell_type": "markdown",
      "metadata": {
        "id": "5vYaTZDueGFU"
      },
      "source": [
        "## 1. Defining the Question"
      ]
    },
    {
      "cell_type": "markdown",
      "metadata": {
        "id": "SQRY6G1KetKi"
      },
      "source": [
        "In this project, we put everything together we've learnt about algorithms complexity. We will imagine that we own an online laptop store and want to build a way to answer a few different business questions about our inventory.\n",
        "\n",
        "We will use the laptops.csv (https://bit.ly/3G32iYj) file as our inventory.\n",
        "\n",
        "* **ID**: A unique identifier for the laptop.\n",
        "* **Company**: The name of the company that produces the laptop.\n",
        "* **Product**: The name of the laptop.\n",
        "* **TypeName**: The type of laptop.\n",
        "* **Inches**: The size of the screen in inches.\n",
        "* **ScreenResolution**: The resolution of the screen.\n",
        "* **CPU**: The laptop CPU.\n",
        "* **RAM**: The amount of RAM in the laptop.\n",
        "* **Memory**: The size of the hard drive.\n",
        "* **GPU**: The graphics card name.\n",
        "* **OpSys**: The name of the operating system.\n",
        "* **Weight**: The laptop weight.\n",
        "* **Price**: The price of the laptop.\n",
        "\n",
        "Let's explore the data and print the first few rows before we start implementing a way to represent this data as the store inventory."
      ]
    },
    {
      "cell_type": "markdown",
      "metadata": {
        "id": "fJDb0sPAkYg0"
      },
      "source": [
        "**Pre-requisite Tasks**\n",
        "\n",
        "* Import the csv module.\n",
        "* Read the laptops.csv file using the `csv` module.\n",
        "* Assign the first row to a variable named header.\n",
        "* Assign the remaining rows to a variable named rows.\n",
        "* Print the value of header.\n",
        "* Print the first five rows in rows."
      ]
    },
    {
      "cell_type": "code",
      "metadata": {
        "id": "B0ZRCu4ykX3E",
        "colab": {
          "base_uri": "https://localhost:8080/"
        },
        "outputId": "7b57693b-bbde-4f9f-9838-0f0a2f6e7f65"
      },
      "source": [
        "# Import the csv module\n",
        "import csv\n",
        "\n",
        "# Read the laptops.csv file\n",
        "with open('laptops.csv', encoding = \"ISO-8859-1\") as f:\n",
        "    reader = csv.reader(f)\n",
        "    rows = list(reader)\n",
        "    header = rows[0]\n",
        "    rows = rows[1:]\n",
        "    \n",
        "print(header)\n",
        "for i in range(5):\n",
        "    print(rows[i])"
      ],
      "execution_count": 2,
      "outputs": [
        {
          "output_type": "stream",
          "name": "stdout",
          "text": [
            "['', 'Company', 'Product', 'TypeName', 'Inches', 'ScreenResolution', 'Cpu', 'Ram', 'Memory', 'Gpu', 'OpSys', 'Weight', 'Price_euros']\n",
            "['1', 'Apple', 'MacBook Pro', 'Ultrabook', '13.3', 'IPS Panel Retina Display 2560x1600', 'Intel Core i5 2.3GHz', '8GB', '128GB SSD', 'Intel Iris Plus Graphics 640', 'macOS', '1.37kg', '1339.69']\n",
            "['2', 'Apple', 'Macbook Air', 'Ultrabook', '13.3', '1440x900', 'Intel Core i5 1.8GHz', '8GB', '128GB Flash Storage', 'Intel HD Graphics 6000', 'macOS', '1.34kg', '898.94']\n",
            "['3', 'HP', '250 G6', 'Notebook', '15.6', 'Full HD 1920x1080', 'Intel Core i5 7200U 2.5GHz', '8GB', '256GB SSD', 'Intel HD Graphics 620', 'No OS', '1.86kg', '575.00']\n",
            "['4', 'Apple', 'MacBook Pro', 'Ultrabook', '15.4', 'IPS Panel Retina Display 2880x1800', 'Intel Core i7 2.7GHz', '16GB', '512GB SSD', 'AMD Radeon Pro 455', 'macOS', '1.83kg', '2537.45']\n",
            "['5', 'Apple', 'MacBook Pro', 'Ultrabook', '13.3', 'IPS Panel Retina Display 2560x1600', 'Intel Core i5 3.1GHz', '8GB', '256GB SSD', 'Intel Iris Plus Graphics 650', 'macOS', '1.37kg', '1803.60']\n"
          ]
        }
      ]
    },
    {
      "cell_type": "markdown",
      "metadata": {
        "id": "5SOek6UieHQ7"
      },
      "source": [
        "## 2. Inventory Class"
      ]
    },
    {
      "cell_type": "markdown",
      "metadata": {
        "id": "aDU2FlJakyjc"
      },
      "source": [
        "The goal of this project is to create a class that represents our inventory. The methods in that class will implement the queries that we want to answer about our inventory. We will also preprocess that data to make those queries run faster.\n",
        "\n",
        "Here are some queries that we will want to answer:\n",
        "\n",
        "* Given a laptop id, find the corresponding data.\n",
        "* Given an amount of money, find whether there are two laptops whose total price is that given amount.\n",
        "* Identify all laptops whose price falls within a given budget.\n",
        "* Let's start by implementing the constructor. It will take the name of the CSV file as argument and then read the rows contained in it. You can use the code from the previous screen to do so.\n",
        "\n",
        "Let's refresh our memories on how to create a class.\n",
        "\n",
        "We can create a Python class named SomeName that has two arguments `argument1`, `argument2` using the following syntax:\n",
        "\n",
        "```\n",
        "class SomeName():\n",
        "\n",
        "    def __init__(self, argument1, argument2):\n",
        "        self.argument1 = argument1\n",
        "        self.argument2 = argument2\n",
        "```\n",
        "\n",
        "The `self` parameter is a default parameter that is always passed to any method of the class. It contains a reference to the class itself and can be used to store values. In this case, we store the values of the two provided arguments.\n",
        "\n",
        "**Tasks**\n",
        "\n",
        "* Create a class named Inventory.\n",
        "* Define the constructor (__init__() method) with two arguments: self and csv_filename.\n",
        "* Read the CSV file provided in csv_filename. We will assume that the encoding is UTF-8, so you don't need to worry about it.\n",
        "* Assign the first row to self.header and the remaining rows to self.rows.\n",
        "Convert the price of each row to an integer. The price is the last column.\n",
        "* Test your class by creating an instance of Inventory using 'laptops.csv' as argument.\n",
        "* Print the headers by printing the value of the header property.\n",
        "* Using the len() function, print the number of rows. You should have 1303 rows."
      ]
    },
    {
      "cell_type": "code",
      "source": [
        "###file var...\n",
        "file='laptops.csv'\n"
      ],
      "metadata": {
        "id": "YBxOEXK_nDEH"
      },
      "execution_count": 3,
      "outputs": []
    },
    {
      "cell_type": "code",
      "metadata": {
        "id": "nHmghZ06ePuk",
        "colab": {
          "base_uri": "https://localhost:8080/"
        },
        "outputId": "d1a4fdb5-174f-4039-beb1-268c902d8c5e"
      },
      "source": [
        "# Challenge \n",
        "# ---\n",
        "#\n",
        "class Inventory():                    \n",
        "    \n",
        "    def __init__(self, csv_filename): \n",
        "        with open(csv_filename,encoding = \"ISO-8859-1\" ) as f: \n",
        "            reader = csv.reader(f)\n",
        "            rows = list(reader)\n",
        "        self.header = rows[0]        \n",
        "        self.rows = rows[1:]\n",
        "        for row in self.rows:         \n",
        "            row[-1] = float(row[-1])\n",
        "\n",
        "# your code goes here\n",
        "Inventory_1 = Inventory(\"laptops.csv\")\n",
        "print(Inventory_1.header)\n",
        "print(len(Inventory_1.rows))\n"
      ],
      "execution_count": 5,
      "outputs": [
        {
          "output_type": "stream",
          "name": "stdout",
          "text": [
            "['', 'Company', 'Product', 'TypeName', 'Inches', 'ScreenResolution', 'Cpu', 'Ram', 'Memory', 'Gpu', 'OpSys', 'Weight', 'Price_euros']\n",
            "1303\n"
          ]
        }
      ]
    },
    {
      "cell_type": "markdown",
      "metadata": {
        "id": "2IbWfj3xeLg7"
      },
      "source": [
        "## 3. Finding a Laptop From the Id"
      ]
    },
    {
      "cell_type": "markdown",
      "metadata": {
        "id": "Y1PQNhMjldAO"
      },
      "source": [
        "Throughout this project, we will ask you to make several improvements to the Inventory class. We suggest that you create a new cell at the start of each screen and copy and paste the last version of the class and modify the later. This will help you keep track of the changes that you make.\n",
        "\n",
        "The first thing that we will implement is a way to look up a laptop from a given identifier. In this way, when a customer comes to our store with a purchase slip, we can quickly identify the laptop to which it corresponds.\n",
        "\n",
        "**laptop id search**\n",
        "\n",
        "For this, we will write a function named `get_laptop_from_id()`. This function will take as argument the identifier of the laptop and return the full row of the laptop with that id.\n",
        "\n",
        "\n",
        "**Tasks**\n",
        "\n",
        "* Inside the Inventory class, create a method `get_laptop_from_id()` with two arguments: self and laptop_id.\n",
        "* Using a `for` loop over `self.rows`, identify if there is a row with whose laptop id is the same as laptop_id.\n",
        "* Return that row if it was found or None if no laptop has the given identifier.\n",
        "* Test your class by creating an instance of Inventory using `'laptops.csv'` as argument.\n",
        "* Call `get_laptop_from_id()` by giving '3362737' as argument and print the result. It should find a matching laptop.\n",
        "* Call `get_laptop_from_id()` by giving '3362736' as argument and print the result. It should not find a laptop."
      ]
    },
    {
      "cell_type": "code",
      "metadata": {
        "id": "vPpDeIlslZPj",
        "colab": {
          "base_uri": "https://localhost:8080/"
        },
        "outputId": "69714379-725a-4fe9-dc95-d65e93b0c13c"
      },
      "source": [
        "\n",
        "# Challenge \n",
        "# ---\n",
        "class Inventory():                    \n",
        "    \n",
        "    def __init__(self, csv_filename):\n",
        "        with open(csv_filename, encoding = \"ISO-8859-1\") as f: \n",
        "            reader = csv.reader(f)\n",
        "            rows = list(reader)\n",
        "        self.header = rows[0]        \n",
        "        self.rows = rows[1:]\n",
        "        for row in self.rows:              \n",
        "            row[-1] = int(float(row[-1]))\n",
        "            \n",
        "    def get_laptop_from_id(self, laptop_id):  \n",
        "    # your code goes here\n",
        "      for row in self.rows:\n",
        "        if row[0] == laptop_id:\n",
        "          return row\n",
        "      return None\n",
        "##Call get_laptop_from_id() by giving '3362736' as argument and print the result. It should not find a laptop.\n",
        "Inventory_2 = Inventory(\"laptops.csv\")\n",
        "print(Inventory_2.get_laptop_from_id(\"3362737\"))\n",
        "print(Inventory_2.get_laptop_from_id(\"3362736\"))\n",
        "\n",
        "\n",
        "\n"
      ],
      "execution_count": 15,
      "outputs": [
        {
          "output_type": "stream",
          "name": "stdout",
          "text": [
            "None\n",
            "None\n"
          ]
        }
      ]
    },
    {
      "cell_type": "markdown",
      "metadata": {
        "id": "Lzr7csNveQRN"
      },
      "source": [
        "## 4. Improving Id Lookups"
      ]
    },
    {
      "cell_type": "markdown",
      "metadata": {
        "id": "GO21l8Txl6aA"
      },
      "source": [
        "The algorithm we've created requires us to look at every single row to find the one that we are looking for (or decide that such a row does not exist). This algorithm has time complexity O(R) where R is the number of rows.\n",
        "\n",
        "We've learned, that we can solve this problem more efficiently by preprocessing the data. Using a set, we can check in constant time whether a given identifier exists. However, we don't just want to know if it exists, we also want to retrieve the remaining row information. Therefore, we will use a dictionary instead of a set. Dictionaries have the same fast lookup properties that sets have, but allow us to associate values to the keys.\n",
        "\n",
        "In our dataset, we only have about 1,300 laptops, so it might seem unnecessary to improve the performance of this query. However, you have to imagine that this code could be used in situations where the inventory contains millions of rows. Also, if we perform a lot of queries, even on a small dataset, the slow query performance will start to add up. It might eventually become the bottleneck of the application.\n",
        "\n",
        "The idea is proceprocess the data into a dictionary where the keys are the IDs and the values the rows. Then, we will use that dictionary in the `get_laptop_from_id()` method. We can do this by:\n",
        "\n",
        "* Preprocess the data and create the dictionary in the `__init__()` method.\n",
        "* Re-implement the get_laptop_from_id() method. We will do it as a new method so that we can compare the two.\n",
        "\n",
        "\n",
        "**Tasks** \n",
        "\n",
        "* At the end of the `__init__()` method, assign an empty dictionary to self.id_to_row.\n",
        "* Loop over all rows and assign that row to the dictionary. Use the row id (the first element in a row) as the key and the whole row as the value.\n",
        "* Create a new method named `get_laptop_from_id_fast()` with arguments: self and laptop_id.\n",
        "* Implemented it by:\n",
        "Checking whether the given id is in self.id_to_row.\n",
        "* If it is, then return the corresponding row. Otherwise, return None.\n",
        "* Test your class by creating an instance of Inventory using 'laptops.csv' as argument.\n",
        "* Call `get_laptop_from_id_fast()` by giving '3362737' as argument and print the result. It should find a matching laptop.\n",
        "Call `get_laptop_from_id_fast()` by giving `'3362736'` as argument and print the result. It should not find a laptop."
      ]
    },
    {
      "cell_type": "code",
      "metadata": {
        "colab": {
          "base_uri": "https://localhost:8080/"
        },
        "outputId": "bdc14dfa-0ff6-46ae-e4ae-958a76f990a4",
        "id": "VMq2UyXZ4frb"
      },
      "source": [
        "# Your code goes here\n",
        "class Inventory():                    \n",
        "    \n",
        "    def __init__(self, csv_filename):\n",
        "        with open(csv_filename, encoding = \"ISO-8859-1\") as f: \n",
        "            reader = csv.reader(f)\n",
        "            rows = list(reader)\n",
        "        self.header = rows[0]        \n",
        "        self.rows = rows[1:]\n",
        "        for row in self.rows:              \n",
        "            row[-1] = int(float(row[-1]))\n",
        "        self.id_to_row = {}\n",
        "        for row in self.rows:\n",
        "          self.id_to_row.update({row[0]:row})\n",
        "            \n",
        "    def get_laptop_from_id(self, laptop_id):  \n",
        "    # your code goes here\n",
        "      for row in self.rows:\n",
        "        if row[0] == laptop_id:\n",
        "          return row\n",
        "      return None\n",
        "    def get_laptop_from_id_fast(self, laptop_id):\n",
        "      if laptop_id in self.id_to_row:\n",
        "        return self.id_to_row.values()\n",
        "      else:\n",
        "         return None\n",
        "      \n",
        "Inventory_3 = Inventory(\"laptops.csv\")\n",
        "print(Inventory_3.get_laptop_from_id(\"40\"))\n",
        "print(Inventory_3.get_laptop_from_id(\"8037\"))\n",
        "\n"
      ],
      "execution_count": 11,
      "outputs": [
        {
          "output_type": "stream",
          "name": "stdout",
          "text": [
            "['40', 'HP', 'ProBook 450', 'Notebook', '15.6', 'Full HD 1920x1080', 'Intel Core i5 8250U 1.6GHz', '8GB', '256GB SSD', 'Nvidia GeForce 930MX ', 'Windows 10', '2.1kg', 879]\n",
            "None\n"
          ]
        }
      ]
    },
    {
      "cell_type": "markdown",
      "metadata": {
        "id": "9VjBTKFUeSqn"
      },
      "source": [
        "## 5. Comparing the Performance"
      ]
    },
    {
      "cell_type": "markdown",
      "metadata": {
        "id": "-xdnssm3nVHi"
      },
      "source": [
        "The `get_laptop_from_id()` method has time complexity O(R) where R is the number of rows. In contrast, the new implementation as time complexity O(1). It does so by using more memory to store the self.`id_to_row` dictionary and using a bit more time creating an instance (because it needs to create the dictionary).\n",
        "\n",
        "Let's experiment to compare the performance of the two methods. The idea is to generate random IDs using the random module. Then, use both methods to lookup these same IDs. We will use the time module to measure the execution time of each lookup and, for each method, add all times together.\n",
        "\n",
        "Recall that we can measure the execution of a function `func()` as follows:\n",
        "\n",
        "```\n",
        "import time\n",
        "start = time.time()\n",
        "func()\n",
        "end = time.time()\n",
        "elapsed = end - start\n",
        "```\n",
        "\n",
        "To generate a list of N random values between a and b using the random module like so:\n",
        "```\n",
        "import random\n",
        "values = [random.randint(a, b) for _ in range N]\n",
        "```\n",
        "\n",
        "**Tasks**\n",
        "\n",
        "* Import the `time` module.\n",
        "* Import the `random` module.\n",
        "* Generate a list named `ids` with 10,000 random values between \"1000000\" and \"9999999\" (this is the id range). Note the use of strings rather than integers. This is because the IDs in the CSV files are read a strings, not integers. You can generate these by generating integers and converting them to strings using the str() function.\n",
        "\n",
        "* Create an instance of Inventory by giving `'laptops.csv'` as argument.\n",
        "Initialize a variable named `total_time_no_dict` and set it to 0. This variable will aggregate the times of calling get_laptop_from_id().\n",
        "\n",
        "* For each identifier in ids do:\n",
        "    a) Assign the value of time.time() to a variable named start.\n",
        "    b) Call the get_laptop_from_id() function on the current identifier.\n",
        "    c) Assign the value of time.time() to a variable named end.\n",
        "\td) Add the elapsed time, end - start, to total_time_no_dict.\n",
        "\n",
        "* Initialize a variable named `total_time_dict` and set it to 0. This variable will aggregate the times of calling get_laptop_from_id_fast().\n",
        "For each identifier in ids do:\n",
        "\ta) Assign the value of time.time() to a variable named start.\n",
        "\tb) Call the get_laptop_from_id_fast() function on the current identifier.\n",
        "\tc) Assign the value of time.time() to a variable named end.\n",
        "\td) Add the elapsed time, end - start, to total_time_dict.\n",
        "\n",
        "* Print the values of `total_time_no_dict` and `total_time_dict`."
      ]
    },
    {
      "cell_type": "code",
      "source": [
        "class Inventory():                    \n",
        "    \n",
        "    def __init__(self, csv_filename):\n",
        "        with open(csv_filename, encoding = \"ISO-8859-1\") as f: \n",
        "            reader = csv.reader(f)\n",
        "            rows = list(reader)\n",
        "        self.header = rows[0]        \n",
        "        self.rows = rows[1:]\n",
        "        for row in self.rows:              \n",
        "            row[-1] = int(float(row[-1]))\n",
        "        self.id_to_row = {}\n",
        "        for row in self.rows:\n",
        "          self.id_to_row.update({row[0]:row})\n",
        "            \n",
        "    def get_laptop_from_id(self, laptop_id):  \n",
        "    # your code goes here\n",
        "      for row in self.rows:\n",
        "        if row[0] == laptop_id:\n",
        "          return row\n",
        "      return None\n",
        "    def get_laptop_from_id_fast(self, laptop_id):\n",
        "      if laptop_id in self.id_to_row:\n",
        "        return self.id_to_row.values()\n",
        "      else:\n",
        "         return None\n",
        "\n",
        "import time\n",
        "import random\n",
        "\n",
        "Ids = str([random.randint(1000000, 9999999) for _ in range(10000)])\n",
        "#print(type(Ids))\n",
        "#print(Ids[20])\n",
        "\n",
        "Inventory_4 = Inventory(\"laptops.csv\")\n",
        "total_time_no_dict = 0\n",
        "for id in Ids:\n",
        "  start = time.time()\n",
        "  Inventory_4.get_laptop_from_id(id)\n",
        "  end = time.time()\n",
        "  total_time_no_dict += (end - start)\n",
        "\n",
        "total_time_dict = 0\n",
        "for id in Ids:\n",
        "  start = time.time()\n",
        "  Inventory_4.get_laptop_from_id_fast(id)\n",
        "  end = time.time()\n",
        "  total_time_dict += (end - start)\n",
        "\n",
        "  #Print the values of total_time_no_dict and total_time_dict.\n",
        "print(\"Total time no dictionary: \",total_time_no_dict)\n",
        "print(\"Total time using dictionary: \", total_time_dict)"
      ],
      "metadata": {
        "colab": {
          "base_uri": "https://localhost:8080/"
        },
        "id": "Fw_BXy1cQrk4",
        "outputId": "52a87e3f-f470-4e20-e85f-0b44573472a7"
      },
      "execution_count": 13,
      "outputs": [
        {
          "output_type": "stream",
          "name": "stdout",
          "text": [
            "Total time no dictionary:  1.9219317436218262\n",
            "Total time using dictionary:  0.0330510139465332\n"
          ]
        }
      ]
    },
    {
      "cell_type": "markdown",
      "metadata": {
        "id": "kuivk0ofeV-X"
      },
      "source": [
        "## 6. Two Laptop Promotion"
      ]
    },
    {
      "cell_type": "markdown",
      "metadata": {
        "id": "UN3EHkCXokdL"
      },
      "source": [
        "Sometimes, your store offers a promotion where you give a gift card. A customer can use the gift to buy up to two laptops. To avoid having to keep track of what was already spent, the gift card has a single time usage. This means that, even if there is leftover money, it cannot be used anymore.\n",
        "\n",
        "For example, imagine that there are only three laptops in inventory. The prices of these laptops are $1,339, $898, and $575.\n",
        "\n",
        "Say we offered a gift card of $2,500. \n",
        "\n",
        "Since a customer can buy, at most, two laptops with a gift card, the maximum they can spend is $2,237 ($1,339 plus $898).\n",
        "\n",
        "Therefore, they might feel cheated because, no matter how they spend their gift card, they cannot spend the full $2,500.\n",
        "\n",
        "You don't want to make a customer feel cheated, so whenever you issue a gift card, you want to make sure that there is at least one way to spend it in full. In other words, before issuing a gift card for D dollars, you want to make sure that either there is a laptop that costs exactly D dollars or two laptops whose costs add up to precisely D dollars.\n",
        "\n",
        "Write a function that, given a dollar amount, checks whether it is possible to spend precisely that amount by purchasing up to two laptops.\n",
        "\n",
        "**Tasks** \n",
        "\n",
        "* Create a method named `check_promotion_dollars()` that takes two arguments: self and dollars.\n",
        "* Loop over all rows to check if there exists a laptop whose price is exactly dollars. Return True if you find one.\n",
        "* Using a double for loop, iterate over all pairs of rows (not necessarily distinct because we can buy the same laptop twice) and check if there is a pair whose prices adds up to exactly dollars. Return True if you find one.\n",
        "* At the end of the function, return `False` to indicate that it is impossible to spend exactly dollars by purchasing at most two laptops.\n",
        "* Test your class by creating an instance of Inventory by giving `'laptops.csv'` as argument.\n",
        "* Call `check_promotion_dollars()` by giving 1000 as argument and print the result. It should find a solution.\n",
        "* Call `check_promotion_dollars()` by giving 442 as argument and print the result. It should not find a solution.\n"
      ]
    },
    {
      "cell_type": "code",
      "metadata": {
        "id": "NeyMTpbneYYV",
        "colab": {
          "base_uri": "https://localhost:8080/"
        },
        "outputId": "f3bd3a92-e27b-4627-a4df-dd09601e3522"
      },
      "source": [
        "# Your code goes here\n",
        "\n",
        "class Inventory():                    \n",
        "    \n",
        "    def __init__(self, csv_filename): \n",
        "        with open(csv_filename,encoding = \"ISO-8859-1\" ) as f: \n",
        "            reader = csv.reader(f)\n",
        "            rows = list(reader)\n",
        "        self.header = rows[0]         \n",
        "        self.rows = rows[1:]\n",
        "        for row in self.rows:         \n",
        "            row[-1] = float(row[-1])\n",
        "\n",
        "       \n",
        "        self.id_to_row={}\n",
        "\n",
        "        for row in self.rows:        \n",
        "            self.id_to_row[row[0]] = row[1:]\n",
        "    \n",
        "    def get_laptop_from_id(self, laptop_id):   # step 1\n",
        "    # your code goes here\n",
        "    \n",
        "      for row in self.rows:\n",
        "        if laptop_id in row:\n",
        "          print(row)\n",
        "\n",
        "    \n",
        "   \n",
        "    def get_laptop_from_id_fast(self, laptop_id):\n",
        "      \n",
        "      for row in self.rows:\n",
        "        if laptop_id in self.id_to_row:\n",
        "          print(self.id_to_row[laptop_id])\n",
        "          break\n",
        "\n",
        "    \n",
        "    def check_promotion_dollars(self, dollars):\n",
        "      \n",
        "      for row in self.rows:\n",
        "            if row[-1] == dollars:\n",
        "              return True\n",
        "\n",
        "      for i in self.rows:\n",
        "        for j in self.rows:\n",
        "            if i[-1] + j[-1] == dollars:\n",
        "              return True\n",
        "      \n",
        "      \n",
        "      return False\n",
        "\n",
        "\n",
        "inv=Inventory('laptops.csv')\n",
        "\n",
        "#Call check_promotion_dollars() by giving 1000 as argument and print the result. It should find a solution\n",
        "print(\"1000 check= \",inv.check_promotion_dollars(1000))\n",
        "\n",
        "#Call check_promotion_dollars() by giving 442 as argument and print the result. It should not find a solution.\n",
        "print(\"442 check= \",inv.check_promotion_dollars(442))\n",
        "\n"
      ],
      "execution_count": 17,
      "outputs": [
        {
          "output_type": "stream",
          "name": "stdout",
          "text": [
            "1000 check=  True\n",
            "442 check=  False\n"
          ]
        }
      ]
    },
    {
      "cell_type": "markdown",
      "metadata": {
        "id": "iKwUxpBTeY-c"
      },
      "source": [
        "## 7. Optimizing Laptop Promotion"
      ]
    },
    {
      "cell_type": "markdown",
      "metadata": {
        "id": "wq7AUbcno3z0"
      },
      "source": [
        "We've learned how we can preprocess data to answer the kind of queries that we used in the `check_promotion_dollars()`. Let's implement this to make our code run faster.\n",
        "\n",
        "Since we only care about whether or not there is a solution, we can store all laptops prices in a set when we initialize the inventory. Then we can check in constant time whether there is a laptop with a given price.\n",
        "\n",
        "To check if there is a pair of laptops can be done in the same way as we've learned in the last lesson.\n",
        "\n",
        "\n",
        "**Tasks**\n",
        "* At the end of the `__init__()` method, assign an empty set to self.prices.\n",
        "* Loop over all rows and add the price contained in that row to `self.prices`.\n",
        "* Create a method named `check_promotion_dollars_fast()` that takes two arguments: self and dollars.\n",
        "* Use the `self.prices` set to check whether there is a laptop whose cost is exactly dollars. Return `True` if it is the case.\n",
        "* Using the technique we've learned in the previous lesson to check whether two values in `self.prices` add up to exactly dollar. Return `True` if it is the case.\n",
        "* At the end of the function, return False to indicate that it is impossible to spend exactly dollars by purchasing at most two laptops.\n",
        "* Test your class by creating an instance of Inventory by giving `'laptops.csv'` as argument.\n",
        "* Call `check_promotion_dollars_fast()` by giving 1000 as argument and print the result. It should find a solution.\n",
        "* Call `check_promotion_dollars_fast()` by giving 442 as argument and print the result. It should not find a solution."
      ]
    },
    {
      "cell_type": "code",
      "metadata": {
        "id": "FQa-5GKAebJ9",
        "colab": {
          "base_uri": "https://localhost:8080/"
        },
        "outputId": "0782d61d-bb2f-4e03-c611-4a6e2cdde961"
      },
      "source": [
        "# Your code goes here\n",
        "\n",
        "class Inventory():                    \n",
        "    \n",
        "    def __init__(self, csv_filename): \n",
        "        with open(csv_filename,encoding = \"ISO-8859-1\" ) as f: \n",
        "            reader = csv.reader(f)\n",
        "            rows = list(reader)\n",
        "        self.header = rows[0]        \n",
        "        self.rows = rows[1:]\n",
        "        for row in self.rows:         \n",
        "            row[-1] = float(row[-1])\n",
        "\n",
        "        self.id_to_row={}\n",
        "        \n",
        "        for row in self.rows:        \n",
        "            self.id_to_row[row[0]] = row[1:]\n",
        "        \n",
        "        self.prices = set(())\n",
        "\n",
        "        for row in self.rows:  \n",
        "            self.prices.add(row[-1])\n",
        "    \n",
        "    def get_laptop_from_id(self, laptop_id):   \n",
        "\n",
        "    # your code goes here\n",
        "      for row in self.rows:\n",
        "        if laptop_id in row:\n",
        "          print(row)\n",
        "\n",
        "    def get_laptop_from_id_fast(self, laptop_id):\n",
        "      for row in self.rows:\n",
        "        if laptop_id in self.id_to_row:\n",
        "          print(self.id_to_row[laptop_id])\n",
        "          break\n",
        "\n",
        "    \n",
        "    \n",
        "    def check_promotion_dollars(self, dollars):\n",
        "      for row in self.rows:\n",
        "            if row[-1] == dollars:\n",
        "              return True\n",
        "\n",
        "      for i in self.rows:\n",
        "        for j in self.rows:\n",
        "            if i[-1] + j[-1] == dollars:\n",
        "              return True\n",
        "      \n",
        "      return False\n",
        "\n",
        "    def check_promotion_dollars_fast(self, dollars):\n",
        "        for i in self.prices:\n",
        "          if i == dollars:\n",
        "            return True \n",
        "\n",
        "        for i in self.prices:\n",
        "          for j in self.prices:\n",
        "            if i + j == dollars:\n",
        "              return True\n",
        "\n",
        "\n",
        "        return False\n",
        "\n",
        "inv=Inventory('laptops.csv')\n",
        "\n",
        "print(\"1000 check= \",inv.check_promotion_dollars_fast(1000))\n",
        "\n",
        "print(\"442 check= \",inv.check_promotion_dollars_fast(442))\n"
      ],
      "execution_count": 18,
      "outputs": [
        {
          "output_type": "stream",
          "name": "stdout",
          "text": [
            "1000 check=  True\n",
            "442 check=  False\n"
          ]
        }
      ]
    },
    {
      "cell_type": "markdown",
      "metadata": {
        "id": "BuA33ERFeY4z"
      },
      "source": [
        "## 8. Comparing Promotion Functions"
      ]
    },
    {
      "cell_type": "markdown",
      "metadata": {
        "id": "Gzpjv7h7pdFs"
      },
      "source": [
        "Let's compare the performance of the last two functions that we wrote.\n",
        "\n",
        "* Generate a list named `prices` with 100 random values between 100 and 5,000.\n",
        "* Create an instance of `Inventory` by giving `'laptops.csv'` as argument.\n",
        "* Initialize a variable named `total_time_no_set` and set it to 0. This variable will aggregate the times of calling `check_promotion_dollars()`.\n",
        "* For each value in the prices do:\n",
        "    a) Assign the value of `time.time()` to a variable named `start`.\n",
        "    b) Call the `check_promotion_dollars()` function on the current price.\n",
        "    c) Assign the value of `time.time()` to a variable named `end`.\n",
        "    d) Add the elapsed time, end - start, to `total_time_no_set`.\n",
        "* Initialize a variable named `total_time_set` and set it to `0`. This variable will aggregate the times of calling `check_promotion_dollars_fast()`.\n",
        "* For each value in the prices do:\n",
        "\ta) Assign the value of time.time() to a variable named start.\n",
        "\tb) Call the check_promotion_dollars_fast() function on the current price.\n",
        "\tc) Assign the value of `time.time()` to a variable named end.\n",
        "\td) Add the elapsed time, end - start, to `total_time_set`.\n",
        "* Print the values of `total_time_no_set` and `total_time_set`."
      ]
    },
    {
      "cell_type": "code",
      "metadata": {
        "id": "WfbqUmpged4Y",
        "colab": {
          "base_uri": "https://localhost:8080/"
        },
        "outputId": "0e133cd1-bad2-4af8-c810-79ab6326ae0e"
      },
      "source": [
        "# Your code goes below\n",
        "\n",
        "prices = [random.randint(100, 5000) for _ in range (100)]\n",
        "\n",
        "inv=Inventory('laptops.csv')\n",
        "\n",
        "def getTimeNoSet(prices, file):\n",
        "  totalTime=0\n",
        "  for i in prices:\n",
        "    start=time.time()\n",
        "    file.check_promotion_dollars(i)\n",
        "    end=time.time()\n",
        "    elapsed=end-start\n",
        "    totalTime+=elapsed\n",
        "\n",
        "  return totalTime\n",
        "\n",
        "def getTimeWithSet(prices, file):\n",
        "  totalTime=0\n",
        "  for i in prices:\n",
        "    start=time.time()\n",
        "    file.check_promotion_dollars_fast(i)\n",
        "    end=time.time()\n",
        "    elapsed=end-start\n",
        "    totalTime+=elapsed\n",
        "\n",
        "  return totalTime\n",
        "\n",
        "total_time_no_set=getTimeNoSet(prices,inv)\n",
        "total_time_set=getTimeWithSet(prices, inv)\n",
        "\n",
        "print(\"total_time_no_set=\",total_time_no_set, \"total_time_set=\",total_time_set)"
      ],
      "execution_count": 21,
      "outputs": [
        {
          "output_type": "stream",
          "name": "stdout",
          "text": [
            "total_time_no_set= 3.381728172302246 total_time_set= 1.1573405265808105\n"
          ]
        }
      ]
    },
    {
      "cell_type": "markdown",
      "metadata": {
        "id": "cdi-Mrr-efrl"
      },
      "source": [
        "## 9. Conclusion"
      ]
    },
    {
      "cell_type": "markdown",
      "metadata": {
        "id": "reX823qqqJIY"
      },
      "source": [
        "Congratulations on implementing a class to represent the inventory of a laptop shop. In this project, you've learned that we can answer business questions more efficiently by preprocessing the data.\n",
        "\n",
        "\n",
        "If you want to push this project further, we suggest that you think about the following queries:\n",
        "\n",
        "* Imagine that we extend our budget query to take as input a range of prices, `min_price` and `max_price`, rather than a single price. Write a query that finds all laptops whose price is in the given range.\n",
        "Sometimes, a customer wants a laptop with some characteristics such as, for instance, 8GB or RAM and a 256GB hard drive. It would be interesting for those customers to provide a way to find the cheapest laptop that matches the desired characteristics. For simplicity, focus only on the amount of RAM and hard drive capacity. You might need to convert those values to integers rather than using strings.\n",
        "* In this project, we only explored three possible queries that we might want to do over the data. In general, we often have a lot of different datasets to process and queries to answer. Designing such a class for every type of data in a business and implementing specific query methods takes a lot of time\n"
      ]
    }
  ]
}